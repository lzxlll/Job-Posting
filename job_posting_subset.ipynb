{
 "cells": [
  {
   "cell_type": "code",
   "execution_count": 1,
   "metadata": {},
   "outputs": [],
   "source": [
    "# -*- coding:utf-8 -*-\n",
    "from datetime import datetime"
   ]
  },
  {
   "cell_type": "code",
   "execution_count": 2,
   "metadata": {},
   "outputs": [],
   "source": [
    "def Main():\n",
    "    source_dir = 'C:/Users/Zexuan Liu/Dropbox/job_posting_data/recruit_ns_210806.dat'\n",
    "    target_dir = 'C:/Users/Zexuan Liu/Desktop'\n",
    " \n",
    "    # 计数器\n",
    "    flag = 0\n",
    " \n",
    "    # 文件名\n",
    "    name = 1\n",
    " \n",
    "    # 存放数据\n",
    "    dataList = []\n",
    " \n",
    "    print(\"Start\")\n",
    "    print(datetime.now().strftime('%Y-%m-%d %H:%M:%S'))\n",
    " \n",
    "    with open(source_dir,'r', encoding=\"utf8\") as f_source:\n",
    "        for line in f_source:\n",
    "          flag+=1\n",
    "          dataList.append(line)\n",
    "          if flag == 1000000:\n",
    "              with open(target_dir+\"job_posting_\"+str(name)+\".dat\",'w+', encoding=\"utf8\", newline='\\r\\n') as f_target:\n",
    "                  for data in dataList:\n",
    "                      f_target.write(data)\n",
    "              name+=1\n",
    "              flag = 0\n",
    "              dataList = []\n",
    "                \n",
    "    # 处理最后一批行数少于100万行的\n",
    "    with open(target_dir+\"job_posting_\"+str(name)+\".dat\",'w+', encoding=\"utf8\", newline='\\r\\n') as f_target:\n",
    "        for data in dataList:\n",
    "            f_target.write(data)\n",
    " \n",
    "    print(\"Finish\")\n",
    "    print(datetime.now().strftime('%Y-%m-%d %H:%M:%S'))\n",
    " "
   ]
  },
  {
   "cell_type": "code",
   "execution_count": null,
   "metadata": {},
   "outputs": [
    {
     "name": "stdout",
     "output_type": "stream",
     "text": [
      "Start\n",
      "2021-10-25 10:57:41\n"
     ]
    }
   ],
   "source": [
    "if __name__ == \"__main__\":\n",
    "    Main()"
   ]
  },
  {
   "cell_type": "code",
   "execution_count": null,
   "metadata": {},
   "outputs": [],
   "source": []
  }
 ],
 "metadata": {
  "kernelspec": {
   "display_name": "Python 3",
   "language": "python",
   "name": "python3"
  },
  "language_info": {
   "codemirror_mode": {
    "name": "ipython",
    "version": 3
   },
   "file_extension": ".py",
   "mimetype": "text/x-python",
   "name": "python",
   "nbconvert_exporter": "python",
   "pygments_lexer": "ipython3",
   "version": "3.7.4"
  }
 },
 "nbformat": 4,
 "nbformat_minor": 2
}
